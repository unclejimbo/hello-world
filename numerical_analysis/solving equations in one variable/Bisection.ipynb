{
 "cells": [
  {
   "cell_type": "markdown",
   "metadata": {},
   "source": [
    "## The Bisection Algorithm"
   ]
  },
  {
   "cell_type": "code",
   "execution_count": 5,
   "metadata": {
    "collapsed": false,
    "scrolled": false
   },
   "outputs": [
    {
     "data": {
      "text/plain": [
       "Bisection (generic function with 1 method)"
      ]
     },
     "execution_count": 5,
     "metadata": {},
     "output_type": "execute_result"
    }
   ],
   "source": [
    "function Bisection(f, a, b, tolerance, max_iteration)\n",
    "    if a > b\n",
    "        temp = a\n",
    "        a = b\n",
    "        b = temp\n",
    "    end\n",
    "    \n",
    "    if f(a) * f(b) > 0\n",
    "        println(\"Error: Invalid inputs.\")\n",
    "        return\n",
    "    end\n",
    "    \n",
    "    i = 1\n",
    "\n",
    "    while i < max_iteration\n",
    "        p = a + (b - a) / 2\n",
    "        if f(p) == 0 || (b - a) / 2 < tolerance\n",
    "            println(\"Root of $f is $p\")\n",
    "            println(\"Iteration loops: $i\")\n",
    "            return p\n",
    "        end\n",
    "        i += 1\n",
    "        if f(a) * f(p) > 0\n",
    "            a = p\n",
    "        else\n",
    "            b = p\n",
    "        end\n",
    "    end\n",
    "    \n",
    "    println(\"Algorithm did not converge.\")\n",
    "    return \n",
    "end"
   ]
  },
  {
   "cell_type": "markdown",
   "metadata": {},
   "source": [
    "## Tests"
   ]
  },
  {
   "cell_type": "code",
   "execution_count": 6,
   "metadata": {
    "collapsed": false
   },
   "outputs": [
    {
     "name": "stdout",
     "output_type": "stream",
     "text": [
      "Root of f1 is 0.73895263671875\n",
      "Iteration loops: 14\n"
     ]
    },
    {
     "data": {
      "text/plain": [
       "0.73895263671875"
      ]
     },
     "execution_count": 6,
     "metadata": {},
     "output_type": "execute_result"
    }
   ],
   "source": [
    "function f1(x)\n",
    "    return 2x^3 - x^2 + x - 1\n",
    "end\n",
    "\n",
    "Bisection(f1, 0, 1, 0.0001, 100)"
   ]
  },
  {
   "cell_type": "code",
   "execution_count": 10,
   "metadata": {
    "collapsed": false
   },
   "outputs": [
    {
     "name": "stdout",
     "output_type": "stream",
     "text": [
      "Root of f2 is 1.36517333984375\n",
      "Iteration loops: 14\n",
      "Root of f2 is 1.365229606628418\n",
      "Iteration loops: 20\n"
     ]
    },
    {
     "data": {
      "text/plain": [
       "1.365229606628418"
      ]
     },
     "execution_count": 10,
     "metadata": {},
     "output_type": "execute_result"
    }
   ],
   "source": [
    "f2(x) = x^3 + 4x^2 - 10\n",
    "\n",
    "Bisection(f2, 1, 2, 0.0001, 100)"
   ]
  },
  {
   "cell_type": "code",
   "execution_count": 9,
   "metadata": {
    "collapsed": false
   },
   "outputs": [
    {
     "name": "stdout",
     "output_type": "stream",
     "text": [
      "Root of f2 is 1.365229606628418\n",
      "Iteration loops: 20\n"
     ]
    },
    {
     "data": {
      "text/plain": [
       "1.365229606628418"
      ]
     },
     "execution_count": 9,
     "metadata": {},
     "output_type": "execute_result"
    }
   ],
   "source": [
    "Bisection(f2, 1, 2, 0.000001, 100)"
   ]
  }
 ],
 "metadata": {
  "kernelspec": {
   "display_name": "Julia 0.3.11",
   "language": "julia",
   "name": "julia-0.3"
  },
  "language_info": {
   "file_extension": ".jl",
   "mimetype": "application/julia",
   "name": "julia",
   "version": "0.3.11"
  }
 },
 "nbformat": 4,
 "nbformat_minor": 0
}
